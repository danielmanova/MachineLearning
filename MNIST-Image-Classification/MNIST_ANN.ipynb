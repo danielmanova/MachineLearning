{
 "cells": [
  {
   "cell_type": "markdown",
   "id": "913235ed",
   "metadata": {},
   "source": [
    "<p><b>Problem Scenario:</b> You are hired by one of the major AI giants, planning to build the best image classifier model available till date. In the first phase of model development, the input is passed from the MNIST dataset. MNIST dataset is one of the most common datasets used for image \n",
    "classification and is accessible from many different sources. It is a subset of a larger set available from NIST and contains 60,000 training images and 10,000 testing images on handwritten digits taken from American Census Bureau employees and American high school students.</p>\n",
    "\n",
    "<b>Objective:</b>\n",
    "Build a perceptron -based classification model to:\n",
    "<li>Classify the handwritten digits properly</li>\n",
    "<li>Make predictions</li>\n",
    "<li>Evaluate model efficiency</li>"
   ]
  },
  {
   "cell_type": "markdown",
   "id": "55a1bbf7",
   "metadata": {},
   "source": [
    "# Import Packages"
   ]
  },
  {
   "cell_type": "code",
   "execution_count": 1,
   "id": "18446625",
   "metadata": {},
   "outputs": [],
   "source": [
    "#Import MNIST dataset from Keras\n",
    "from keras.datasets import mnist\n",
    "#import matplotlib for graphical representation\n",
    "from matplotlib import pyplot as plt\n",
    "#Import model architectures\n",
    "from keras.layers import Dense, Flatten , Dropout\n",
    "from keras.models import Sequential\n",
    "from keras.utils import to_categorical\n",
    "#Import matplotlib for data visualizarion\n",
    "from matplotlib import style"
   ]
  },
  {
   "cell_type": "code",
   "execution_count": 2,
   "id": "c5bbdb41",
   "metadata": {},
   "outputs": [],
   "source": [
    "#Load MNIST dataset\n",
    "(X_train,y_train),(X_test,y_test) = mnist.load_data()"
   ]
  },
  {
   "cell_type": "code",
   "execution_count": 3,
   "id": "9fd4e445",
   "metadata": {},
   "outputs": [
    {
     "name": "stdout",
     "output_type": "stream",
     "text": [
      "(60000, 28, 28)\n"
     ]
    }
   ],
   "source": [
    "print(X_train.shape) #60000 images/digit each 28x28 pixel"
   ]
  },
  {
   "cell_type": "markdown",
   "id": "6e22575f",
   "metadata": {},
   "source": [
    "# Model Architecture "
   ]
  },
  {
   "cell_type": "code",
   "execution_count": 4,
   "id": "6075d057",
   "metadata": {},
   "outputs": [],
   "source": [
    "#Build the Architecture\n",
    "model=Sequential()\n",
    "model.add(Flatten(input_shape=(28,28))) # flattening the image of pixel 28x28\n",
    "model.add(Dense(8,activation='sigmoid'))\n",
    "model.add(Dense(10,activation='softmax')) # this should be 10 as output - 0 to 9 digits\n"
   ]
  },
  {
   "cell_type": "code",
   "execution_count": 5,
   "id": "a4d64794",
   "metadata": {},
   "outputs": [
    {
     "name": "stdout",
     "output_type": "stream",
     "text": [
      "Model: \"sequential\"\n",
      "_________________________________________________________________\n",
      "Layer (type)                 Output Shape              Param #   \n",
      "=================================================================\n",
      "flatten (Flatten)            (None, 784)               0         \n",
      "_________________________________________________________________\n",
      "dense (Dense)                (None, 8)                 6280      \n",
      "_________________________________________________________________\n",
      "dense_1 (Dense)              (None, 10)                90        \n",
      "=================================================================\n",
      "Total params: 6,370\n",
      "Trainable params: 6,370\n",
      "Non-trainable params: 0\n",
      "_________________________________________________________________\n"
     ]
    }
   ],
   "source": [
    "model.summary()"
   ]
  },
  {
   "cell_type": "markdown",
   "id": "ee0585dd",
   "metadata": {},
   "source": [
    "# Compiling Model"
   ]
  },
  {
   "cell_type": "code",
   "execution_count": 6,
   "id": "a4cbfd4c",
   "metadata": {},
   "outputs": [],
   "source": [
    "#Compile the model\n",
    "model.compile(loss='categorical_crossentropy',optimizer='adam',metrics=['accuracy'])"
   ]
  },
  {
   "cell_type": "code",
   "execution_count": 7,
   "id": "8069e34c",
   "metadata": {},
   "outputs": [],
   "source": [
    "y_train=to_categorical(y_train)"
   ]
  },
  {
   "cell_type": "code",
   "execution_count": 8,
   "id": "79a73f4f",
   "metadata": {},
   "outputs": [],
   "source": [
    "y_test=to_categorical(y_test)"
   ]
  },
  {
   "cell_type": "code",
   "execution_count": 9,
   "id": "707c5a95",
   "metadata": {},
   "outputs": [
    {
     "data": {
      "text/plain": [
       "255"
      ]
     },
     "execution_count": 9,
     "metadata": {},
     "output_type": "execute_result"
    }
   ],
   "source": [
    "X_train.max() #Maximum pixel size"
   ]
  },
  {
   "cell_type": "code",
   "execution_count": 10,
   "id": "a5944ba1",
   "metadata": {},
   "outputs": [
    {
     "data": {
      "text/plain": [
       "0"
      ]
     },
     "execution_count": 10,
     "metadata": {},
     "output_type": "execute_result"
    }
   ],
   "source": [
    "X_train.min() #Minimum pixel size"
   ]
  },
  {
   "cell_type": "markdown",
   "id": "cda5535c",
   "metadata": {},
   "source": [
    "# Scaling Data"
   ]
  },
  {
   "cell_type": "code",
   "execution_count": 11,
   "id": "9a0b9798",
   "metadata": {},
   "outputs": [],
   "source": [
    "# Scale Data\n",
    "X_train=X_train/255.   #. used to keep in float and divide by 255 to comw up with 0 or 1\n",
    "X_test=X_test/255."
   ]
  },
  {
   "cell_type": "markdown",
   "id": "0049e2a5",
   "metadata": {},
   "source": [
    "# Training Model"
   ]
  },
  {
   "cell_type": "code",
   "execution_count": 12,
   "id": "188dc5af",
   "metadata": {},
   "outputs": [
    {
     "name": "stdout",
     "output_type": "stream",
     "text": [
      "Epoch 1/20\n",
      "1875/1875 [==============================] - 1s 467us/step - loss: 1.1439 - accuracy: 0.7646 - val_loss: 0.6072 - val_accuracy: 0.8755\n",
      "Epoch 2/20\n",
      "1875/1875 [==============================] - 1s 377us/step - loss: 0.4964 - accuracy: 0.8827 - val_loss: 0.4111 - val_accuracy: 0.8981\n",
      "Epoch 3/20\n",
      "1875/1875 [==============================] - 1s 381us/step - loss: 0.3810 - accuracy: 0.8996 - val_loss: 0.3457 - val_accuracy: 0.9088\n",
      "Epoch 4/20\n",
      "1875/1875 [==============================] - 1s 371us/step - loss: 0.3351 - accuracy: 0.9087 - val_loss: 0.3180 - val_accuracy: 0.9142\n",
      "Epoch 5/20\n",
      "1875/1875 [==============================] - 1s 403us/step - loss: 0.3097 - accuracy: 0.9141 - val_loss: 0.2990 - val_accuracy: 0.9173\n",
      "Epoch 6/20\n",
      "1875/1875 [==============================] - 1s 395us/step - loss: 0.2935 - accuracy: 0.9179 - val_loss: 0.2922 - val_accuracy: 0.9189\n",
      "Epoch 7/20\n",
      "1875/1875 [==============================] - 1s 391us/step - loss: 0.2821 - accuracy: 0.9211 - val_loss: 0.2809 - val_accuracy: 0.9220\n",
      "Epoch 8/20\n",
      "1875/1875 [==============================] - 1s 378us/step - loss: 0.2726 - accuracy: 0.9232 - val_loss: 0.2745 - val_accuracy: 0.9238\n",
      "Epoch 9/20\n",
      "1875/1875 [==============================] - 1s 387us/step - loss: 0.2650 - accuracy: 0.9249 - val_loss: 0.2694 - val_accuracy: 0.9244\n",
      "Epoch 10/20\n",
      "1875/1875 [==============================] - 1s 394us/step - loss: 0.2590 - accuracy: 0.9265 - val_loss: 0.2684 - val_accuracy: 0.9241\n",
      "Epoch 11/20\n",
      "1875/1875 [==============================] - 1s 408us/step - loss: 0.2538 - accuracy: 0.9276 - val_loss: 0.2646 - val_accuracy: 0.9276\n",
      "Epoch 12/20\n",
      "1875/1875 [==============================] - 1s 445us/step - loss: 0.2487 - accuracy: 0.9297 - val_loss: 0.2665 - val_accuracy: 0.9240\n",
      "Epoch 13/20\n",
      "1875/1875 [==============================] - 1s 415us/step - loss: 0.2445 - accuracy: 0.9300 - val_loss: 0.2592 - val_accuracy: 0.9273\n",
      "Epoch 14/20\n",
      "1875/1875 [==============================] - 1s 404us/step - loss: 0.2414 - accuracy: 0.9310 - val_loss: 0.2589 - val_accuracy: 0.9267\n",
      "Epoch 15/20\n",
      "1875/1875 [==============================] - 1s 410us/step - loss: 0.2380 - accuracy: 0.9316 - val_loss: 0.2593 - val_accuracy: 0.9268\n",
      "Epoch 16/20\n",
      "1875/1875 [==============================] - 1s 373us/step - loss: 0.2355 - accuracy: 0.9329 - val_loss: 0.2583 - val_accuracy: 0.9264\n",
      "Epoch 17/20\n",
      "1875/1875 [==============================] - 1s 407us/step - loss: 0.2327 - accuracy: 0.9336 - val_loss: 0.2558 - val_accuracy: 0.9274\n",
      "Epoch 18/20\n",
      "1875/1875 [==============================] - 1s 387us/step - loss: 0.2309 - accuracy: 0.9335 - val_loss: 0.2550 - val_accuracy: 0.9276\n",
      "Epoch 19/20\n",
      "1875/1875 [==============================] - 1s 379us/step - loss: 0.2286 - accuracy: 0.9345 - val_loss: 0.2559 - val_accuracy: 0.9264\n",
      "Epoch 20/20\n",
      "1875/1875 [==============================] - 1s 389us/step - loss: 0.2271 - accuracy: 0.9352 - val_loss: 0.2537 - val_accuracy: 0.9286\n"
     ]
    }
   ],
   "source": [
    "#Train the model\n",
    "res=model.fit(X_train,y_train,epochs=20,validation_data=(X_test,y_test))"
   ]
  },
  {
   "cell_type": "markdown",
   "id": "03e609fa",
   "metadata": {},
   "source": [
    "# Data Visualization"
   ]
  },
  {
   "cell_type": "code",
   "execution_count": 33,
   "id": "b07dc735",
   "metadata": {},
   "outputs": [
    {
     "data": {
      "image/png": "[encoded data removed]",
      "text/plain": [
       "<Figure size 1008x432 with 1 Axes>"
      ]
     },
     "metadata": {},
     "output_type": "display_data"
    }
   ],
   "source": [
    "#training and validation loss as per the each ephoce\n",
    "style.use('ggplot')\n",
    "plt.figure(figsize=(14,6))\n",
    "plt.plot(range(1,21),res.history['loss'],marker='o',label='training loss')\n",
    "plt.plot(range(1,21),res.history['val_loss'],marker='o',label='validation loss')\n",
    "plt.legend()\n",
    "plt.show()"
   ]
  },
  {
   "cell_type": "code",
   "execution_count": 15,
   "id": "9ed699c7",
   "metadata": {},
   "outputs": [
    {
     "data": {
      "image/png": "[encoded data removed]",
      "text/plain": [
       "<Figure size 1008x432 with 1 Axes>"
      ]
     },
     "metadata": {},
     "output_type": "display_data"
    }
   ],
   "source": [
    "#training and validation accuracy as per the each ephoce\n",
    "plt.figure(figsize=(14,6))\n",
    "plt.plot(range(1,21),res.history['accuracy'],marker='o',label='training accuracy')\n",
    "plt.plot(range(1,21),res.history['val_accuracy'],marker='o',label='validation accuracy')\n",
    "plt.legend()\n",
    "plt.show()"
   ]
  },
  {
   "cell_type": "code",
   "execution_count": 16,
   "id": "32653ada",
   "metadata": {},
   "outputs": [
    {
     "data": {
      "text/plain": [
       "{'loss': [1.1438895463943481,\n",
       "  0.4963996410369873,\n",
       "  0.3809521198272705,\n",
       "  0.33511078357696533,\n",
       "  0.3097394108772278,\n",
       "  0.29348626732826233,\n",
       "  0.2820541560649872,\n",
       "  0.2726372182369232,\n",
       "  0.2649640738964081,\n",
       "  0.25898540019989014,\n",
       "  0.2537834048271179,\n",
       "  0.24868598580360413,\n",
       "  0.24450643360614777,\n",
       "  0.24139918386936188,\n",
       "  0.23799046874046326,\n",
       "  0.2354557365179062,\n",
       "  0.23274828493595123,\n",
       "  0.2308925837278366,\n",
       "  0.22859714925289154,\n",
       "  0.22705045342445374],\n",
       " 'accuracy': [0.7646333575248718,\n",
       "  0.8827333450317383,\n",
       "  0.899649977684021,\n",
       "  0.9087166786193848,\n",
       "  0.9141499996185303,\n",
       "  0.9178666472434998,\n",
       "  0.9210500121116638,\n",
       "  0.9231666922569275,\n",
       "  0.9248999953269958,\n",
       "  0.9265499711036682,\n",
       "  0.9276166558265686,\n",
       "  0.9296666383743286,\n",
       "  0.9300333261489868,\n",
       "  0.9309666752815247,\n",
       "  0.9315666556358337,\n",
       "  0.9328833222389221,\n",
       "  0.9335500001907349,\n",
       "  0.933483362197876,\n",
       "  0.9345166683197021,\n",
       "  0.9352166652679443],\n",
       " 'val_loss': [0.6072149872779846,\n",
       "  0.41112571954727173,\n",
       "  0.34568485617637634,\n",
       "  0.3179773986339569,\n",
       "  0.2989644706249237,\n",
       "  0.29219546914100647,\n",
       "  0.28094542026519775,\n",
       "  0.2745232582092285,\n",
       "  0.26939669251441956,\n",
       "  0.2684391736984253,\n",
       "  0.26455366611480713,\n",
       "  0.26651129126548767,\n",
       "  0.25915440917015076,\n",
       "  0.25885432958602905,\n",
       "  0.2593337893486023,\n",
       "  0.25829121470451355,\n",
       "  0.2558136582374573,\n",
       "  0.2550293803215027,\n",
       "  0.2559221088886261,\n",
       "  0.25373122096061707],\n",
       " 'val_accuracy': [0.8755000233650208,\n",
       "  0.8981000185012817,\n",
       "  0.9088000059127808,\n",
       "  0.9142000079154968,\n",
       "  0.9172999858856201,\n",
       "  0.9189000129699707,\n",
       "  0.921999990940094,\n",
       "  0.923799991607666,\n",
       "  0.9243999719619751,\n",
       "  0.9240999817848206,\n",
       "  0.9276000261306763,\n",
       "  0.9240000247955322,\n",
       "  0.927299976348877,\n",
       "  0.9266999959945679,\n",
       "  0.926800012588501,\n",
       "  0.9264000058174133,\n",
       "  0.9273999929428101,\n",
       "  0.9276000261306763,\n",
       "  0.9264000058174133,\n",
       "  0.928600013256073]}"
      ]
     },
     "execution_count": 16,
     "metadata": {},
     "output_type": "execute_result"
    }
   ],
   "source": [
    "res.history"
   ]
  },
  {
   "cell_type": "markdown",
   "id": "f61d8c79",
   "metadata": {},
   "source": [
    "# End of Project"
   ]
  },
  {
   "cell_type": "markdown",
   "id": "3ea631aa",
   "metadata": {},
   "source": [
    "#########################"
   ]
  },
  {
   "cell_type": "code",
   "execution_count": 37,
   "id": "757b8836",
   "metadata": {},
   "outputs": [
    {
     "data": {
      "text/plain": [
       "(28, 28)"
      ]
     },
     "execution_count": 37,
     "metadata": {},
     "output_type": "execute_result"
    }
   ],
   "source": [
    "#verify the prediction\n",
    "\n",
    "test_img = X_train[100]  #choosing random number predict for our reference\n",
    "test_img.shape"
   ]
  },
  {
   "cell_type": "code",
   "execution_count": 20,
   "id": "2652e2fe",
   "metadata": {},
   "outputs": [],
   "source": [
    "img=test_img.reshape(1,-1)  #Flattening the image"
   ]
  },
  {
   "cell_type": "code",
   "execution_count": 21,
   "id": "c01e02b2",
   "metadata": {},
   "outputs": [
    {
     "data": {
      "text/plain": [
       "(1, 784)"
      ]
     },
     "execution_count": 21,
     "metadata": {},
     "output_type": "execute_result"
    }
   ],
   "source": [
    "img.shape"
   ]
  },
  {
   "cell_type": "code",
   "execution_count": 22,
   "id": "cab665e3",
   "metadata": {},
   "outputs": [
    {
     "data": {
      "text/plain": [
       "<matplotlib.image.AxesImage at 0x229ff401b80>"
      ]
     },
     "execution_count": 22,
     "metadata": {},
     "output_type": "execute_result"
    },
    {
     "data": {
      "image/png": "[encoded data removed]",
      "text/plain": [
       "<Figure size 432x288 with 1 Axes>"
      ]
     },
     "metadata": {},
     "output_type": "display_data"
    }
   ],
   "source": [
    "plt.imshow(test_img)"
   ]
  },
  {
   "cell_type": "code",
   "execution_count": 38,
   "id": "afca7c7b",
   "metadata": {},
   "outputs": [
    {
     "name": "stdout",
     "output_type": "stream",
     "text": [
      "[5]\n"
     ]
    }
   ],
   "source": [
    "print(model.predict_classes(img)) #Class name = 0"
   ]
  },
  {
   "cell_type": "code",
   "execution_count": 24,
   "id": "dd92136e",
   "metadata": {},
   "outputs": [],
   "source": [
    "#######################"
   ]
  }
 ],
 "metadata": {
  "kernelspec": {
   "display_name": "Python 3",
   "language": "python",
   "name": "python3"
  },
  "language_info": {
   "codemirror_mode": {
    "name": "ipython",
    "version": 3
   },
   "file_extension": ".py",
   "mimetype": "text/x-python",
   "name": "python",
   "nbconvert_exporter": "python",
   "pygments_lexer": "ipython3",
   "version": "3.8.5"
  }
 },
 "nbformat": 4,
 "nbformat_minor": 5
}
